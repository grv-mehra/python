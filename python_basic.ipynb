{
 "cells": [
  {
   "cell_type": "code",
   "execution_count": 1,
   "id": "096b7d91",
   "metadata": {},
   "outputs": [
    {
     "name": "stdout",
     "output_type": "stream",
     "text": [
      "area of rectangle 180\n"
     ]
    }
   ],
   "source": [
    "h=30\n",
    "w=6\n",
    "area=h*w\n",
    "print('area of rectangle',area)"
   ]
  },
  {
   "cell_type": "code",
   "execution_count": null,
   "id": "65b2e670",
   "metadata": {},
   "outputs": [],
   "source": []
  },
  {
   "cell_type": "code",
   "execution_count": null,
   "id": "2a5d8749",
   "metadata": {},
   "outputs": [],
   "source": [
    "#simple interst"
   ]
  },
  {
   "cell_type": "code",
   "execution_count": 2,
   "id": "21e610b0",
   "metadata": {},
   "outputs": [
    {
     "name": "stdout",
     "output_type": "stream",
     "text": [
      "enter the principle amount1000\n",
      "enter the time period2.5\n",
      "enter the rate of interest3\n",
      "simple interest is= 75.0\n"
     ]
    }
   ],
   "source": [
    "pa=int(input('enter the principle amount'))\n",
    "time=float(input('enter the time period'))\n",
    "rate=float(input('enter the rate of interest'))\n",
    "si=(pa*time*rate)/100\n",
    "print(f'simple interest is= {si}')"
   ]
  },
  {
   "cell_type": "code",
   "execution_count": 4,
   "id": "b76dcfd5",
   "metadata": {},
   "outputs": [
    {
     "name": "stdout",
     "output_type": "stream",
     "text": [
      "59.0\n"
     ]
    }
   ],
   "source": [
    "noi=10\n",
    "poi=5\n",
    "gst=18\n",
    "bill=(noi*poi)\n",
    "gst_am=bill*gst/100\n",
    "total_bill=bill+gst_am\n",
    "\n",
    "print(total_bill)\n"
   ]
  },
  {
   "cell_type": "code",
   "execution_count": 6,
   "id": "484b3c3e",
   "metadata": {},
   "outputs": [
    {
     "name": "stdout",
     "output_type": "stream",
     "text": [
      "enter the upin2354\n",
      "invaild pin\n"
     ]
    }
   ],
   "source": [
    "pin=1234\n",
    "upin=int(input('enter the upin'))\n",
    "if pin==upin:\n",
    "    print('press 1 for withdraw')\n",
    "    print('press 2 for deposite')\n",
    "    print('press 3 for check balance')\n",
    "    print('press 4 for exit')\n",
    "else:\n",
    "    print('invaild pin')"
   ]
  },
  {
   "cell_type": "code",
   "execution_count": 7,
   "id": "6211c319",
   "metadata": {},
   "outputs": [
    {
     "name": "stdout",
     "output_type": "stream",
     "text": [
      "enter the 1st num10\n",
      "enter the 2nd num15\n",
      "15 is the greater no\n"
     ]
    }
   ],
   "source": [
    "n1=int(input('enter the 1st num'))\n",
    "n2=int(input('enter the 2nd num'))\n",
    "if n1>n2:\n",
    "    print(f'{n1} is the greater no')\n",
    "else:\n",
    "    print(f'{n2} is the greater no')"
   ]
  },
  {
   "cell_type": "code",
   "execution_count": 11,
   "id": "caf4a391",
   "metadata": {},
   "outputs": [
    {
     "name": "stdout",
     "output_type": "stream",
     "text": [
      "enter the num15\n",
      "no is not multiple of 7\n"
     ]
    }
   ],
   "source": [
    "n=int(input('enter the num'))\n",
    "if n%7==0:\n",
    "    print('no is multiple of 7')\n",
    "else:\n",
    "    print('no is not multiple of 7')"
   ]
  },
  {
   "cell_type": "code",
   "execution_count": 13,
   "id": "402104e4",
   "metadata": {},
   "outputs": [
    {
     "name": "stdout",
     "output_type": "stream",
     "text": [
      "enter the 1st num10\n",
      "enter the 2nd num5\n",
      "enter + for addition\n",
      "enter - for addition\n",
      "enter * for addition\n",
      "enter your choice*\n",
      "10*5=50\n"
     ]
    }
   ],
   "source": [
    "n1=int(input('enter the 1st num'))\n",
    "n2=int(input('enter the 2nd num'))\n",
    "print('enter + for addition')\n",
    "print('enter - for addition')\n",
    "print('enter * for addition')\n",
    "ch=input('enter your choice')\n",
    "if ch=='+':\n",
    "    print(f'{n1}+{n2}={n1+n2}')\n",
    "elif ch=='-':\n",
    "    print(f'{n1}-{n2}={n1-n2}')\n",
    "elif ch=='*':\n",
    "    print(f'{n1}*{n2}={n1*n2}')\n",
    "else:\n",
    "    print('invalid choice')"
   ]
  },
  {
   "cell_type": "code",
   "execution_count": 13,
   "id": "aa6dfcb5",
   "metadata": {},
   "outputs": [
    {
     "name": "stdout",
     "output_type": "stream",
     "text": [
      "enter the user pin1234\n",
      "enter the choice of yours\n",
      "press 1 for withdraw\n",
      "press 2 for deposite\n",
      "press 3 for check balance\n",
      "press 4 for exit\n",
      "enter your choice4\n"
     ]
    }
   ],
   "source": [
    "pa=10000\n",
    "upin=1234\n",
    "pin=int(input('enter the user pin'))\n",
    "if upin==pin:\n",
    "    print('enter the choice of yours')\n",
    "    print('press 1 for withdraw')\n",
    "    print('press 2 for deposite')\n",
    "    print('press 3 for check balance')\n",
    "    print('press 4 for exit')\n",
    "ch=input('enter your choice')\n",
    "if ch=='1':\n",
    "    wamt=int(input('enter the amount you want to withdraw'))\n",
    "    if wamt<=pa and wamt%100==0 and wamt>=100:\n",
    "        pa=pa-wamt\n",
    "        print('witharaw amount is',wamt)\n",
    "        print('balance amount is',pa)\n",
    "    else:\n",
    "        print('condition not satisfied')\n",
    "elif ch=='2':\n",
    "    damt=int(input('enter the amount you want to deposite'))\n",
    "    if damt>=10 and wamt%100==0:\n",
    "        pa=pa+damt\n",
    "        print('deposite amount is',damt)\n",
    "        print('balance amount is',pa)\n",
    "    else:\n",
    "        print('condition not satisfied')\n",
    "elif ch=='3':\n",
    "    print('balance amount is',pa)\n",
    "elif ch=='4':\n",
    "    exit(1)\n",
    "    \n",
    "else:\n",
    "    print('invalid pin')"
   ]
  },
  {
   "cell_type": "code",
   "execution_count": 17,
   "id": "d4ecfc26",
   "metadata": {},
   "outputs": [
    {
     "name": "stdout",
     "output_type": "stream",
     "text": [
      "2\n",
      "4\n",
      "6\n",
      "8\n",
      "10\n",
      "12\n",
      "14\n",
      "16\n",
      "18\n",
      "20\n"
     ]
    }
   ],
   "source": [
    "i=2\n",
    "k=1\n",
    "while k<=10:\n",
    "    print(i*k)\n",
    "    k+=1\n",
    "    "
   ]
  },
  {
   "cell_type": "code",
   "execution_count": 25,
   "id": "25f5b2d2",
   "metadata": {},
   "outputs": [
    {
     "name": "stdout",
     "output_type": "stream",
     "text": [
      "100,99,98,97,96,95,94,93,92,91,90,89,88,87,86,85,84,83,82,81,80,79,78,77,76,75,74,73,72,71,70,69,68,67,66,65,64,63,62,61,60,59,58,57,56,55,54,53,52,51,50,49,48,47,46,45,44,43,42,41,40,39,38,37,36,35,34,33,32,31,30,29,28,27,26,25,24,23,22,21,20,19,18,17,16,15,14,13,12,11,10,9,8,7,6,5,4,3,2,1,"
     ]
    }
   ],
   "source": [
    "i=100\n",
    "while i>=1:\n",
    "    print(i,end=',')\n",
    "    i-=1"
   ]
  },
  {
   "cell_type": "code",
   "execution_count": 27,
   "id": "d1f7863f",
   "metadata": {},
   "outputs": [
    {
     "name": "stdout",
     "output_type": "stream",
     "text": [
      "700,702,704,706,708,710,712,714,716,718,720,722,724,726,728,730,732,734,736,738,740,742,744,746,748,750,752,754,756,758,760,762,764,766,768,770,772,774,776,778,780,782,784,786,788,790,792,794,796,798,800,802,804,806,808,810,812,814,816,818,820,822,824,826,828,830,832,834,836,838,840,842,844,846,848,850,852,854,856,858,860,862,864,866,868,870,872,874,876,878,880,882,884,886,888,890,892,894,896,898,"
     ]
    }
   ],
   "source": [
    "i=699\n",
    "while i<=899:\n",
    "    if i%2==0:\n",
    "        print(i,end=\",\")\n",
    "    i+=1"
   ]
  },
  {
   "cell_type": "code",
   "execution_count": 28,
   "id": "289003ed",
   "metadata": {},
   "outputs": [
    {
     "name": "stdout",
     "output_type": "stream",
     "text": [
      "100,121,144,169,196,225,256,289,324,361,400,441,484,529,576,625,"
     ]
    }
   ],
   "source": [
    "i=10\n",
    "while i<=25:\n",
    "    print(i**2,end=\",\")\n",
    "    i+=1"
   ]
  },
  {
   "cell_type": "code",
   "execution_count": 33,
   "id": "339fedf6",
   "metadata": {},
   "outputs": [
    {
     "name": "stdout",
     "output_type": "stream",
     "text": [
      "1125,1170,1215,1260,1305,1350,1395,1440,1485,1530,1575,1620,1665,1710,1755,1800,1845,1890,1935,1980,2025,2070,2115,2160,2205,2250,2295,2340,2385,2430,2475,2520,2565,2610,2655,2700,2745,2790,2835,2880,2925,2970,3015,3060,3105,3150,3195,3240,3285,3330,3375,3420,"
     ]
    }
   ],
   "source": [
    "i=1100\n",
    "while i<=3450:\n",
    "    if i%5==0 and i%9==0:\n",
    "        print(i,end=\",\")\n",
    "    i+=1"
   ]
  },
  {
   "cell_type": "code",
   "execution_count": 2,
   "id": "4521b393",
   "metadata": {},
   "outputs": [
    {
     "name": "stdout",
     "output_type": "stream",
     "text": [
      "enter datad\n",
      "exit to terminatef\n",
      "f\n",
      "exit to terminated\n",
      "d\n",
      "exit to terminated\n",
      "d\n",
      "exit to terminated\n",
      "d\n",
      "exit to terminateexit\n",
      "exit\n"
     ]
    }
   ],
   "source": [
    "n=input('enter data')\n",
    "while n!='exit':\n",
    "    n=input('exit to terminate')\n",
    "    print(n)"
   ]
  },
  {
   "cell_type": "code",
   "execution_count": 10,
   "id": "de3bc9e2",
   "metadata": {},
   "outputs": [
    {
     "name": "stdout",
     "output_type": "stream",
     "text": [
      "enter the number4\n",
      "24\n"
     ]
    }
   ],
   "source": [
    "n=int(input('enter the number'))\n",
    "i=1\n",
    "fact=1\n",
    "while i<=n:\n",
    "    fact=fact*i\n",
    "    i+=1\n",
    "print(fact)\n",
    "    "
   ]
  },
  {
   "cell_type": "code",
   "execution_count": 16,
   "id": "070159af",
   "metadata": {},
   "outputs": [
    {
     "name": "stdout",
     "output_type": "stream",
     "text": [
      "enter the number21\n",
      "21 is not a prime no\n"
     ]
    }
   ],
   "source": [
    "n=int(input('enter the number'))\n",
    "i=2\n",
    "flag=1\n",
    "while i<n:\n",
    "    if n%i==0:\n",
    "        flag=0\n",
    "        break\n",
    "        \n",
    "    i+=1\n",
    "if flag==1:\n",
    "    print(f'{n} is a prime no')\n",
    "else:\n",
    "    print(f'{n} is not a prime no')"
   ]
  },
  {
   "cell_type": "code",
   "execution_count": 19,
   "id": "14260b4d",
   "metadata": {},
   "outputs": [
    {
     "name": "stdout",
     "output_type": "stream",
     "text": [
      "enter the no4\n",
      "4*1 =4\n",
      "4*2 =8\n",
      "4*3 =12\n",
      "4*4 =16\n",
      "4*5 =20\n",
      "4*6 =24\n",
      "4*7 =28\n",
      "4*8 =32\n",
      "4*9 =36\n",
      "4*10 =40\n"
     ]
    }
   ],
   "source": [
    "n=int(input('enter the no'))\n",
    "for i in range(1,11):\n",
    "    print(f'{n}*{i} ={n*i}')\n",
    "    "
   ]
  },
  {
   "cell_type": "code",
   "execution_count": 23,
   "id": "5444698c",
   "metadata": {},
   "outputs": [
    {
     "name": "stdout",
     "output_type": "stream",
     "text": [
      "121\t132\t143\t154\t165\t176\t187\t198\t209\t220\t231\t242\t253\t264\t275\t286\t297\t308\t319\t330\t341\t352\t363\t374\t385\t396\t407\t418\t429\t440\t451\t462\t473\t484\t495\t506\t517\t528\t539\t550\t561\t572\t583\t594\t605\t616\t627\t638\t649\t660\t671\t682\t693\t704\t715\t726\t737\t748\t759\t770\t781\t792\t803\t814\t825\t836\t847\t858\t869\t880\t891\t902\t"
     ]
    }
   ],
   "source": [
    "for i in range(111,911):\n",
    "    if i%11==0:\n",
    "        print(i,end='\\t')"
   ]
  },
  {
   "cell_type": "code",
   "execution_count": null,
   "id": "2fc7d498",
   "metadata": {},
   "outputs": [],
   "source": [
    "#list"
   ]
  },
  {
   "cell_type": "code",
   "execution_count": 2,
   "id": "25238409",
   "metadata": {},
   "outputs": [
    {
     "name": "stdout",
     "output_type": "stream",
     "text": [
      "<class 'list'>\n",
      "<class 'list'>\n"
     ]
    }
   ],
   "source": [
    "l1=[]\n",
    "l2=list()\n",
    "print(type(l1))\n",
    "print(type(l2))"
   ]
  },
  {
   "cell_type": "code",
   "execution_count": 5,
   "id": "fa8651e3",
   "metadata": {},
   "outputs": [
    {
     "name": "stdout",
     "output_type": "stream",
     "text": [
      "enter the index to get the value5\n",
      "82\n"
     ]
    }
   ],
   "source": [
    "l1=[10,20,30,45,55,82,75]\n",
    "index=int(input('enter the index to get the value'))\n",
    "value=l1[index]\n",
    "print(value)"
   ]
  },
  {
   "cell_type": "code",
   "execution_count": 8,
   "id": "93891581",
   "metadata": {},
   "outputs": [
    {
     "name": "stdout",
     "output_type": "stream",
     "text": [
      "enter the index to update the value5\n",
      "enter the new updated value100\n",
      "[82, 20, 30, 45, 55, 100, 75]\n"
     ]
    }
   ],
   "source": [
    "ind=int(input('enter the index to update the value'))\n",
    "val=int(input('enter the new updated value'))\n",
    "l1[ind]=val\n",
    "print(l1)"
   ]
  },
  {
   "cell_type": "code",
   "execution_count": 10,
   "id": "01e96e91",
   "metadata": {},
   "outputs": [
    {
     "name": "stdout",
     "output_type": "stream",
     "text": [
      "at 0 index value 82\n",
      "at 1 index value 20\n",
      "at 2 index value 30\n",
      "at 3 index value 45\n",
      "at 4 index value 55\n",
      "at 5 index value 100\n",
      "at 6 index value 75\n"
     ]
    }
   ],
   "source": [
    "for i in range(7):\n",
    "    print(f'at {i} index value {l1[i]}')"
   ]
  },
  {
   "cell_type": "code",
   "execution_count": 11,
   "id": "52a5d38d",
   "metadata": {},
   "outputs": [
    {
     "name": "stdout",
     "output_type": "stream",
     "text": [
      "at 0 index value 82\n",
      "at 1 index value 20\n",
      "at 2 index value 30\n",
      "at 3 index value 45\n",
      "at 4 index value 55\n",
      "at 5 index value 100\n",
      "at 6 index value 75\n"
     ]
    }
   ],
   "source": [
    "for i in range(len(l1)):\n",
    "    print(f'at {i} index value {l1[i]}')"
   ]
  },
  {
   "cell_type": "code",
   "execution_count": 13,
   "id": "eea7788d",
   "metadata": {},
   "outputs": [
    {
     "name": "stdout",
     "output_type": "stream",
     "text": [
      "square of 82=6724\n",
      "square of 20=400\n",
      "square of 30=900\n",
      "square of 45=2025\n",
      "square of 55=3025\n",
      "square of 100=10000\n",
      "square of 75=5625\n"
     ]
    }
   ],
   "source": [
    "for item in l1:\n",
    "    print(f'square of {item}={item**2}')"
   ]
  },
  {
   "cell_type": "code",
   "execution_count": 14,
   "id": "46c1c692",
   "metadata": {},
   "outputs": [
    {
     "name": "stdout",
     "output_type": "stream",
     "text": [
      "enter the snamevijay\n",
      "['gaurav', 'kamal', 'vijay']\n"
     ]
    }
   ],
   "source": [
    "name=['gaurav','kamal']\n",
    "sname=input('enter the sname')\n",
    "name.append(sname)\n",
    "print(name)"
   ]
  },
  {
   "cell_type": "code",
   "execution_count": 16,
   "id": "bc8a5af0",
   "metadata": {},
   "outputs": [
    {
     "name": "stdout",
     "output_type": "stream",
     "text": [
      "enter the index1\n",
      "enter the value100\n",
      "[20, 100, 30, 40, 50]\n"
     ]
    }
   ],
   "source": [
    "l2=[20,30,40,50]\n",
    "index=int(input('enter the index'))\n",
    "value=int(input('enter the value'))\n",
    "l2.insert(index,value)\n",
    "print(l2)"
   ]
  },
  {
   "cell_type": "code",
   "execution_count": 19,
   "id": "d450307c",
   "metadata": {},
   "outputs": [
    {
     "name": "stdout",
     "output_type": "stream",
     "text": [
      "enter the range of the list3\n",
      "enter the element of the list10\n",
      "enter the element of the list20\n",
      "enter the element of the list30\n",
      "[10, 20, 30]\n"
     ]
    }
   ],
   "source": [
    "l=[]\n",
    "ran=int(input('enter the range of the list'))\n",
    "for i in range(ran):\n",
    "    element=int(input('enter the element of the list'))\n",
    "    l.append(element)\n",
    "print(l)"
   ]
  },
  {
   "cell_type": "code",
   "execution_count": 29,
   "id": "beded224",
   "metadata": {},
   "outputs": [
    {
     "name": "stdout",
     "output_type": "stream",
     "text": [
      "enter the no of cities3\n",
      "enter the cities temp0\n",
      "enter the cities temp80\n",
      "enter the cities temp50\n",
      "[0, 80, 50]\n",
      "temp of cities in fahrenheit=[32.0]\n",
      "temp of cities in fahrenheit=[32.0, 176.0]\n",
      "temp of cities in fahrenheit=[32.0, 176.0, 122.0]\n"
     ]
    }
   ],
   "source": [
    "t=[]\n",
    "n=int(input('enter the no of cities'))\n",
    "for i in range(n):\n",
    "    v=int(input('enter the cities temp'))\n",
    "    t.append(v)\n",
    "print(t)\n",
    "f=[]\n",
    "for k in t:\n",
    "    f1=(k*9/5)+32\n",
    "    f.append(f1)\n",
    "    print(f'temp of cities in fahrenheit={f}')"
   ]
  },
  {
   "cell_type": "code",
   "execution_count": 9,
   "id": "1ca8f70b",
   "metadata": {},
   "outputs": [
    {
     "name": "stdout",
     "output_type": "stream",
     "text": [
      "enter the element to count the frequency150\n",
      "0\n"
     ]
    }
   ],
   "source": [
    "l=[10,20,30,40,50,60,10,80,10]\n",
    "n=int(input('enter the element to count the frequency'))\n",
    "m=l.count(n)\n",
    "print(m)"
   ]
  },
  {
   "cell_type": "code",
   "execution_count": 12,
   "id": "c04d53b5",
   "metadata": {},
   "outputs": [
    {
     "name": "stdout",
     "output_type": "stream",
     "text": [
      "[]\n"
     ]
    }
   ],
   "source": [
    "l=[10,20,30,40,50,60,10,80,10]\n",
    "l.clear()\n",
    "print(l)"
   ]
  },
  {
   "cell_type": "code",
   "execution_count": 17,
   "id": "ded18beb",
   "metadata": {},
   "outputs": [
    {
     "name": "stdout",
     "output_type": "stream",
     "text": [
      "enter the element to find the pos150\n",
      "element is not founf\n"
     ]
    }
   ],
   "source": [
    "l=[10,20,30,40,50,60,10,80,10]\n",
    "n=int(input('enter the element to find the pos'))\n",
    "if l.count(n)!=0:\n",
    "    pos=l.index(n)\n",
    "    print(pos)\n",
    "else:\n",
    "    print('element is not founf')"
   ]
  },
  {
   "cell_type": "code",
   "execution_count": 28,
   "id": "0e026e40",
   "metadata": {},
   "outputs": [
    {
     "name": "stdout",
     "output_type": "stream",
     "text": [
      "[10, 20, 30, 40, 50, 60, 10, 80]\n"
     ]
    }
   ],
   "source": [
    "l=[10,20,30,40,50,60,10,80,10]\n",
    "l.pop()\n",
    "print(l)"
   ]
  },
  {
   "cell_type": "code",
   "execution_count": 29,
   "id": "9f121f64",
   "metadata": {},
   "outputs": [
    {
     "name": "stdout",
     "output_type": "stream",
     "text": [
      "[20, 30, 40, 50, 60, 10, 80, 10]\n"
     ]
    }
   ],
   "source": [
    "l=[10,20,30,40,50,60,10,80,10]\n",
    "l.pop(0)\n",
    "print(l)"
   ]
  },
  {
   "cell_type": "code",
   "execution_count": 34,
   "id": "ba210382",
   "metadata": {},
   "outputs": [
    {
     "name": "stdout",
     "output_type": "stream",
     "text": [
      "enter the element you want to remove10\n",
      "[20, 30, 40, 50, 60, 10, 80, 10]\n"
     ]
    }
   ],
   "source": [
    "l=[10,20,30,40,50,60,10,80,10]\n",
    "n=int(input('enter the element you want to remove'))\n",
    "l.remove(n)\n",
    "print(l)"
   ]
  },
  {
   "cell_type": "code",
   "execution_count": 35,
   "id": "dcc69a2c",
   "metadata": {},
   "outputs": [
    {
     "name": "stdout",
     "output_type": "stream",
     "text": [
      "[10, 20, 30, 40, 50, 60, 10, 80]\n",
      "[10, 20, 30, 40, 50, 60, 10]\n",
      "[10, 20, 30, 40, 50, 60]\n",
      "[10, 20, 30, 40, 50]\n",
      "[10, 20, 30, 40]\n",
      "[10, 20, 30]\n",
      "[10, 20]\n",
      "[10]\n",
      "[]\n"
     ]
    }
   ],
   "source": [
    "l=[10,20,30,40,50,60,10,80,10]\n",
    "for i in range(len(l)):\n",
    "    l.pop()\n",
    "    print(l)"
   ]
  },
  {
   "cell_type": "code",
   "execution_count": 37,
   "id": "da64035f",
   "metadata": {},
   "outputs": [
    {
     "name": "stdout",
     "output_type": "stream",
     "text": [
      "[5, 10, 15, 20, 2, 4, 6, 8]\n"
     ]
    }
   ],
   "source": [
    "l1=[5,10,15,20]\n",
    "l2=[2,4,6,8]\n",
    "l1.extend(l2)\n",
    "print(l1)"
   ]
  },
  {
   "cell_type": "code",
   "execution_count": 38,
   "id": "9c4f1c56",
   "metadata": {},
   "outputs": [
    {
     "name": "stdout",
     "output_type": "stream",
     "text": [
      "[20, 15, 10, 5]\n"
     ]
    }
   ],
   "source": [
    "l1=[5,10,15,20]\n",
    "l1.reverse()\n",
    "print(l1)"
   ]
  },
  {
   "cell_type": "code",
   "execution_count": 45,
   "id": "1a87ee87",
   "metadata": {},
   "outputs": [
    {
     "name": "stdout",
     "output_type": "stream",
     "text": [
      "[5, 10, 15, 20]\n"
     ]
    }
   ],
   "source": [
    "l1=[5,10,15,20]\n",
    "l1.sort(reverse=False)\n",
    "print(l1)"
   ]
  },
  {
   "cell_type": "code",
   "execution_count": 51,
   "id": "050a3cf3",
   "metadata": {},
   "outputs": [
    {
     "name": "stdout",
     "output_type": "stream",
     "text": [
      "50\n",
      "20\n",
      "5\n"
     ]
    }
   ],
   "source": [
    "l1=[5,10,15,20]\n",
    "print(sum(l1))\n",
    "print(max(l1))\n",
    "print(min(l1))"
   ]
  },
  {
   "cell_type": "code",
   "execution_count": 54,
   "id": "92883412",
   "metadata": {},
   "outputs": [
    {
     "name": "stdout",
     "output_type": "stream",
     "text": [
      "sum of list is 50\n"
     ]
    }
   ],
   "source": [
    "l1=[5,10,15,20]\n",
    "s=0\n",
    "for i in l1:\n",
    "    s+=i\n",
    "print('sum of list is',s)\n",
    "    "
   ]
  },
  {
   "cell_type": "code",
   "execution_count": 59,
   "id": "e86507a5",
   "metadata": {},
   "outputs": [
    {
     "name": "stdout",
     "output_type": "stream",
     "text": [
      "maximum value 200\n"
     ]
    }
   ],
   "source": [
    "l1=[5,10,50,200,15,20]\n",
    "s=0\n",
    "for i in l1:\n",
    "    if s<i:\n",
    "        s=i\n",
    "print('maximum value',s)"
   ]
  },
  {
   "cell_type": "code",
   "execution_count": 70,
   "id": "450e8b7e",
   "metadata": {},
   "outputs": [
    {
     "name": "stdout",
     "output_type": "stream",
     "text": [
      "[25, 100, 2500, 40000, 225, 400]\n"
     ]
    }
   ],
   "source": [
    "l1=[5,10,50,200,15,20]\n",
    "sqlist=[]\n",
    "for i in l1:\n",
    "    sqlist.append(i**2)\n",
    "print(sqlist)"
   ]
  },
  {
   "cell_type": "code",
   "execution_count": 65,
   "id": "69a45a16",
   "metadata": {},
   "outputs": [
    {
     "name": "stdout",
     "output_type": "stream",
     "text": [
      "enter the element to find the occurance10\n",
      "occurance of 10=3 times\n"
     ]
    }
   ],
   "source": [
    "l1=[5,10,50,200,15,20,10,20,50,200,15,10]\n",
    "s=0\n",
    "n=int(input('enter the element to find the occurance'))\n",
    "for item in l1:\n",
    "    if item==n:\n",
    "        s+=1\n",
    "print(f'occurance of {n}={s} times')\n",
    "        "
   ]
  },
  {
   "cell_type": "code",
   "execution_count": 77,
   "id": "d437bc40",
   "metadata": {},
   "outputs": [
    {
     "name": "stdout",
     "output_type": "stream",
     "text": [
      "enter the element to find its  position10\n",
      "1\n",
      "6\n",
      "11\n"
     ]
    }
   ],
   "source": [
    "l1=[5,10,50,200,15,20,10,20,50,200,15,10]\n",
    "s=0\n",
    "pos=int(input('enter the element to find its  position'))\n",
    "for i in l1:\n",
    "    if i==pos:\n",
    "        print(s)\n",
    "    s+=1\n",
    "        \n",
    "        \n"
   ]
  },
  {
   "cell_type": "code",
   "execution_count": 78,
   "id": "99703c9a",
   "metadata": {},
   "outputs": [],
   "source": [
    "l=[10,20,30,[100,200,300],50,60,[900,800,700,[11,222,300]]]"
   ]
  },
  {
   "cell_type": "code",
   "execution_count": 79,
   "id": "8866362b",
   "metadata": {},
   "outputs": [
    {
     "data": {
      "text/plain": [
       "222"
      ]
     },
     "execution_count": 79,
     "metadata": {},
     "output_type": "execute_result"
    }
   ],
   "source": [
    "l[6][3][1]"
   ]
  },
  {
   "cell_type": "markdown",
   "id": "7f5eba38",
   "metadata": {},
   "source": [
    "# Tuple"
   ]
  },
  {
   "cell_type": "code",
   "execution_count": 1,
   "id": "1ee10dce",
   "metadata": {},
   "outputs": [
    {
     "name": "stdout",
     "output_type": "stream",
     "text": [
      "<class 'tuple'>\n"
     ]
    }
   ],
   "source": [
    "t=()\n",
    "print(type(t))"
   ]
  },
  {
   "cell_type": "code",
   "execution_count": 3,
   "id": "ec5b48d2",
   "metadata": {},
   "outputs": [
    {
     "name": "stdout",
     "output_type": "stream",
     "text": [
      "<class 'tuple'>\n"
     ]
    }
   ],
   "source": [
    "t=(5,)\n",
    "print(type(t))"
   ]
  },
  {
   "cell_type": "code",
   "execution_count": 5,
   "id": "4d4575f0",
   "metadata": {},
   "outputs": [
    {
     "name": "stdout",
     "output_type": "stream",
     "text": [
      "enter the index to get the value2\n",
      "30\n"
     ]
    }
   ],
   "source": [
    "t=(10,20,30,40,80,90)\n",
    "ind=int(input('enter the index to get the value'))\n",
    "value=t[ind]\n",
    "print(value)"
   ]
  },
  {
   "cell_type": "code",
   "execution_count": 6,
   "id": "2d463211",
   "metadata": {},
   "outputs": [
    {
     "name": "stdout",
     "output_type": "stream",
     "text": [
      "(10, 20, 30, 40, 80, 90)\n"
     ]
    }
   ],
   "source": [
    "print(t)"
   ]
  },
  {
   "cell_type": "code",
   "execution_count": 9,
   "id": "baab83bd",
   "metadata": {},
   "outputs": [
    {
     "name": "stdout",
     "output_type": "stream",
     "text": [
      "enter the element to count the occurance10\n",
      "4\n"
     ]
    }
   ],
   "source": [
    "t=(10,20,10,10,15,12,15,10)\n",
    "n=int(input('enter the element to count the occurance'))\n",
    "occ=t.count(n)\n",
    "print(occ)"
   ]
  },
  {
   "cell_type": "code",
   "execution_count": 13,
   "id": "ced5af0d",
   "metadata": {},
   "outputs": [
    {
     "name": "stdout",
     "output_type": "stream",
     "text": [
      "enter the value to get the index10\n",
      "0\n"
     ]
    }
   ],
   "source": [
    "t=(10,20,10,10,15,12,15,10)\n",
    "n=int(input('enter the value to get the index'))\n",
    "v=t.index(n)\n",
    "print(v)"
   ]
  },
  {
   "cell_type": "code",
   "execution_count": null,
   "id": "c20856ce",
   "metadata": {},
   "outputs": [],
   "source": [
    "#packing and unpacking"
   ]
  },
  {
   "cell_type": "code",
   "execution_count": 16,
   "id": "e6f03831",
   "metadata": {},
   "outputs": [
    {
     "data": {
      "text/plain": [
       "('gaurav', 'kamal', 'pankaj')"
      ]
     },
     "execution_count": 16,
     "metadata": {},
     "output_type": "execute_result"
    }
   ],
   "source": [
    "t='gaurav','kamal','pankaj'\n",
    "t"
   ]
  },
  {
   "cell_type": "code",
   "execution_count": 18,
   "id": "dc925dab",
   "metadata": {},
   "outputs": [
    {
     "name": "stdout",
     "output_type": "stream",
     "text": [
      "gaurav\n",
      "kamal\n",
      "pankaj\n"
     ]
    }
   ],
   "source": [
    "n1,n2,n3=t\n",
    "print(n1)\n",
    "print(n2)\n",
    "print(n3)"
   ]
  },
  {
   "cell_type": "code",
   "execution_count": 21,
   "id": "30bca457",
   "metadata": {},
   "outputs": [
    {
     "name": "stdout",
     "output_type": "stream",
     "text": [
      "('g', 'a', 'u', 'r', 'a', 'v')\n",
      "(10, 20, 30)\n"
     ]
    }
   ],
   "source": [
    "l=[10,20,30]\n",
    "s='gaurav'\n",
    "print(tuple(s))\n",
    "t=tuple(l)\n",
    "print(t)"
   ]
  },
  {
   "cell_type": "code",
   "execution_count": 22,
   "id": "f493ccb2",
   "metadata": {},
   "outputs": [
    {
     "name": "stdout",
     "output_type": "stream",
     "text": [
      "[10, 20, 30, 40]\n"
     ]
    }
   ],
   "source": [
    "t=(10,20,30,40)\n",
    "print(list(t))"
   ]
  },
  {
   "cell_type": "code",
   "execution_count": null,
   "id": "e522872b",
   "metadata": {},
   "outputs": [],
   "source": [
    "n1=int(input('enter the 1st num'))\n",
    "n2=int(input('enter the 1st num'))\n",
    "n1=n1+n2\n",
    "n2=n1-n2\n",
    "n1=n1-n2"
   ]
  },
  {
   "cell_type": "markdown",
   "id": "7068d5a2",
   "metadata": {},
   "source": [
    "# string"
   ]
  },
  {
   "cell_type": "code",
   "execution_count": 1,
   "id": "8b9f84e4",
   "metadata": {},
   "outputs": [
    {
     "name": "stdout",
     "output_type": "stream",
     "text": [
      "good evening\n",
      "GOOD EVENING\n",
      "gOOD eVENING\n",
      "Good Evening\n",
      "Good evening\n"
     ]
    }
   ],
   "source": [
    "s='Good Evening'\n",
    "lw=s.lower()\n",
    "up=s.upper()\n",
    "sw=s.swapcase()\n",
    "tl=s.title()\n",
    "st=s.capitalize()\n",
    "print(lw)\n",
    "print(up)\n",
    "print(sw)\n",
    "print(tl)\n",
    "print(st)"
   ]
  },
  {
   "cell_type": "code",
   "execution_count": 7,
   "id": "f2a822c9",
   "metadata": {},
   "outputs": [
    {
     "name": "stdout",
     "output_type": "stream",
     "text": [
      "enter index to find elementg\n",
      "0\n"
     ]
    }
   ],
   "source": [
    "s=\"good evening\"\n",
    "n=input('enter elemet to find index')\n",
    "pos=s.index(n)\n",
    "print(pos)"
   ]
  },
  {
   "cell_type": "code",
   "execution_count": 9,
   "id": "71e7411c",
   "metadata": {},
   "outputs": [
    {
     "name": "stdout",
     "output_type": "stream",
     "text": [
      "enter elemet to find indexm\n",
      "-1\n"
     ]
    }
   ],
   "source": [
    "s=\"good evening\"\n",
    "n=input('enter elemet to find index')\n",
    "pos=s.find(n)\n",
    "print(pos)"
   ]
  },
  {
   "cell_type": "code",
   "execution_count": 11,
   "id": "41475f4c",
   "metadata": {},
   "outputs": [
    {
     "name": "stdout",
     "output_type": "stream",
     "text": [
      "enter elemet to find indexn\n",
      "8\n"
     ]
    }
   ],
   "source": [
    "s=\"good evening\"\n",
    "n=input('enter elemet to find index')\n",
    "if s.find(n)!=-1:\n",
    "    pos=s.find(n)\n",
    "    print(pos)\n",
    "else:\n",
    "    print('element not found')"
   ]
  },
  {
   "cell_type": "code",
   "execution_count": 14,
   "id": "fc886290",
   "metadata": {},
   "outputs": [
    {
     "name": "stdout",
     "output_type": "stream",
     "text": [
      "www.staragile.com\n"
     ]
    }
   ],
   "source": [
    "web='***www.staragile.com***'\n",
    "sweb=web.strip('*')\n",
    "print(sweb)"
   ]
  },
  {
   "cell_type": "code",
   "execution_count": 17,
   "id": "cc4cbcb4",
   "metadata": {},
   "outputs": [
    {
     "name": "stdout",
     "output_type": "stream",
     "text": [
      "enter any key to get value                  k2\n",
      "30\n"
     ]
    }
   ],
   "source": [
    "d={'k1':20,'k2':30,'k3':40,'k4':50}\n",
    "n=input('enter any key to get value').strip()\n",
    "value=d[n]\n",
    "print(value)"
   ]
  },
  {
   "cell_type": "code",
   "execution_count": 19,
   "id": "79204b09",
   "metadata": {},
   "outputs": [
    {
     "name": "stdout",
     "output_type": "stream",
     "text": [
      "['gaurav007mehra', 'gmail.com']\n"
     ]
    }
   ],
   "source": [
    "email='gaurav007mehra@gmail.com'\n",
    "data=email.split('@')\n",
    "print(data)"
   ]
  },
  {
   "cell_type": "code",
   "execution_count": 20,
   "id": "a0a395fe",
   "metadata": {},
   "outputs": [
    {
     "name": "stdout",
     "output_type": "stream",
     "text": [
      "['www', 'google', 'com']\n"
     ]
    }
   ],
   "source": [
    "email='www.google.com'\n",
    "data=email.split('.')\n",
    "print(data)"
   ]
  },
  {
   "cell_type": "code",
   "execution_count": 21,
   "id": "c43f7b0e",
   "metadata": {},
   "outputs": [
    {
     "name": "stdout",
     "output_type": "stream",
     "text": [
      "['google', 'LLC', 'is', 'an', 'American', 'multinational', 'technology', 'company', 'focusing', 'on', 'artificial', 'intelligence,', 'online', 'advertising,', 'search', 'engine']\n"
     ]
    }
   ],
   "source": [
    "data='google LLC is an American multinational technology company focusing on artificial intelligence, online advertising, search engine'\n",
    "sp=data.split()\n",
    "print(sp)"
   ]
  },
  {
   "cell_type": "code",
   "execution_count": 24,
   "id": "74db152b",
   "metadata": {},
   "outputs": [
    {
     "name": "stdout",
     "output_type": "stream",
     "text": [
      "16\n"
     ]
    }
   ],
   "source": [
    "print(len(sp))\n"
   ]
  },
  {
   "cell_type": "code",
   "execution_count": 26,
   "id": "80fe151f",
   "metadata": {},
   "outputs": [
    {
     "name": "stdout",
     "output_type": "stream",
     "text": [
      "gaurav@gmail.com\n"
     ]
    }
   ],
   "source": [
    "s=['gaurav','gmail.com']\n",
    "s1='@'\n",
    "email=s1.join(s)\n",
    "print(email)"
   ]
  },
  {
   "cell_type": "markdown",
   "id": "1278d7cc",
   "metadata": {},
   "source": [
    "# dictionary"
   ]
  },
  {
   "cell_type": "code",
   "execution_count": 27,
   "id": "33d4b9d1",
   "metadata": {},
   "outputs": [
    {
     "name": "stdout",
     "output_type": "stream",
     "text": [
      "enter item to check the pricepaneer tikka\n",
      "100\n"
     ]
    }
   ],
   "source": [
    "dmenu={'momo':40,'paneer tikka':100}\n",
    "n=input('enter item to check the price')\n",
    "price=dmenu[n]\n",
    "print(price)"
   ]
  },
  {
   "cell_type": "code",
   "execution_count": 30,
   "id": "dabe5516",
   "metadata": {},
   "outputs": [
    {
     "name": "stdout",
     "output_type": "stream",
     "text": [
      "enter item to check the pricedoas\n",
      "None\n"
     ]
    }
   ],
   "source": [
    "dmenu={'momo':40,'paneer tikka':100}\n",
    "n=input('enter item to check the price')\n",
    "price=dmenu.get(n)\n",
    "print(price)"
   ]
  },
  {
   "cell_type": "code",
   "execution_count": 34,
   "id": "a4499153",
   "metadata": {},
   "outputs": [
    {
     "name": "stdout",
     "output_type": "stream",
     "text": [
      "enter item to check the pricedosa\n",
      "item not found\n"
     ]
    }
   ],
   "source": [
    "dmenu={'momo':40,'paneer tikka':100}\n",
    "n=input('enter item to check the price')\n",
    "if dmenu.get(n) !=None:\n",
    "    price=dmenu.get(n)\n",
    "    print(price)\n",
    "else:\n",
    "    print('item not found')"
   ]
  },
  {
   "cell_type": "markdown",
   "id": "81ee63cb",
   "metadata": {},
   "source": [
    "# function"
   ]
  },
  {
   "cell_type": "code",
   "execution_count": 1,
   "id": "f40bdcdb",
   "metadata": {},
   "outputs": [
    {
     "name": "stdout",
     "output_type": "stream",
     "text": [
      "hello\n"
     ]
    }
   ],
   "source": [
    "#without parameter\n",
    "def print_msg(): #declare\n",
    "    print('hello')#defination\n",
    "print_msg()#calling"
   ]
  },
  {
   "cell_type": "code",
   "execution_count": 2,
   "id": "557ce4f9",
   "metadata": {},
   "outputs": [
    {
     "name": "stdout",
     "output_type": "stream",
     "text": [
      "hello\n"
     ]
    }
   ],
   "source": [
    "print_msg()"
   ]
  },
  {
   "cell_type": "code",
   "execution_count": 4,
   "id": "883ddaf5",
   "metadata": {},
   "outputs": [
    {
     "name": "stdout",
     "output_type": "stream",
     "text": [
      "enter the 1st num10\n",
      "enter the 1st num20\n",
      "10+20=30\n"
     ]
    }
   ],
   "source": [
    "def add():\n",
    "    n1=int(input('enter the 1st num'))\n",
    "    n2=int(input('enter the 1st num'))\n",
    "    print(f'{n1}+{n2}={n1+n2}')\n",
    "add()"
   ]
  },
  {
   "cell_type": "code",
   "execution_count": 5,
   "id": "fd6b1c41",
   "metadata": {},
   "outputs": [
    {
     "name": "stdout",
     "output_type": "stream",
     "text": [
      "enter the radious10\n",
      "area of circle is 314.0\n"
     ]
    }
   ],
   "source": [
    "def area():\n",
    "    r=float(input('enter the radious'))\n",
    "    pi=3.14\n",
    "    print(f'area of circle is {pi*r**2}')\n",
    "area()"
   ]
  },
  {
   "cell_type": "code",
   "execution_count": 6,
   "id": "bcfbbe12",
   "metadata": {},
   "outputs": [
    {
     "name": "stdout",
     "output_type": "stream",
     "text": [
      "enter the 1st num10\n",
      "enter the 2nd num20\n",
      "addition is 30\n"
     ]
    }
   ],
   "source": [
    "#function with parameter\n",
    "def add(x,y):\n",
    "    print('addition is',(x+y))\n",
    "\n",
    "\n",
    "n1=int(input('enter the 1st num'))\n",
    "n2=int(input('enter the 2nd num'))\n",
    "add(n1,n2)"
   ]
  },
  {
   "cell_type": "code",
   "execution_count": 8,
   "id": "39417eb0",
   "metadata": {},
   "outputs": [
    {
     "name": "stdout",
     "output_type": "stream",
     "text": [
      "enter the usernamegaurav\n",
      "enter the domainnamegmail.com\n",
      "gaurav@gmail.com\n"
     ]
    }
   ],
   "source": [
    "def get_mail(username,domainname):\n",
    "    mail=username+'@'+domainname\n",
    "    print(mail)\n",
    "    \n",
    "    \n",
    "un=input('enter the username')\n",
    "dn=input('enter the domainname')\n",
    "get_mail(un,dn)"
   ]
  },
  {
   "cell_type": "code",
   "execution_count": 10,
   "id": "e9a24ec1",
   "metadata": {},
   "outputs": [
    {
     "name": "stdout",
     "output_type": "stream",
     "text": [
      "enter the num25\n",
      "odd no\n"
     ]
    }
   ],
   "source": [
    "def even_odd(n):\n",
    "    if n%2==0:\n",
    "        print('even no')\n",
    "    else:\n",
    "        print('odd no')\n",
    "\n",
    "num=int(input('enter the num'))\n",
    "even_odd(num)"
   ]
  },
  {
   "cell_type": "code",
   "execution_count": 11,
   "id": "2f3a08eb",
   "metadata": {},
   "outputs": [
    {
     "name": "stdout",
     "output_type": "stream",
     "text": [
      "enter the 1st num100\n",
      "enter the 1st num200\n",
      "sum is  300\n"
     ]
    }
   ],
   "source": [
    "#function with return type\n",
    "def add():\n",
    "    n1=int(input('enter the 1st num'))\n",
    "    n2=int(input('enter the 1st num'))\n",
    "    s=n1+n2\n",
    "    return s\n",
    "res=add()\n",
    "print('sum is ', res)"
   ]
  },
  {
   "cell_type": "code",
   "execution_count": 12,
   "id": "f2b46e88",
   "metadata": {},
   "outputs": [
    {
     "name": "stdout",
     "output_type": "stream",
     "text": [
      "enter the radious10\n",
      "area of circle is  314.0\n"
     ]
    }
   ],
   "source": [
    "def area():\n",
    "    r=float(input('enter the radious'))\n",
    "    pi=3.14\n",
    "    a=pi*r**2\n",
    "    return a\n",
    "res=area()\n",
    "print('area of circle is ', res)"
   ]
  },
  {
   "cell_type": "code",
   "execution_count": 15,
   "id": "709c743e",
   "metadata": {},
   "outputs": [
    {
     "name": "stdout",
     "output_type": "stream",
     "text": [
      "ente the no15\n",
      "odd no\n"
     ]
    }
   ],
   "source": [
    "def even_odd():\n",
    "    n=int(input('ente the no'))\n",
    "    if n%2==0:\n",
    "        return 'even no'\n",
    "    else:\n",
    "        return 'odd no'\n",
    "\n",
    "\n",
    "res=even_odd()\n",
    "print(res)"
   ]
  },
  {
   "cell_type": "code",
   "execution_count": 18,
   "id": "55eb654c",
   "metadata": {},
   "outputs": [
    {
     "name": "stdout",
     "output_type": "stream",
     "text": [
      "enter the principle amount1000\n",
      "enter the rate of interest5\n",
      "enter the time period2.5\n",
      "simple interest is 125.0\n"
     ]
    }
   ],
   "source": [
    "def simple_interest():\n",
    "    p=int(input('enter the principle amount'))\n",
    "    r=float(input('enter the rate of interest'))\n",
    "    t=float(input('enter the time period'))\n",
    "    si=(p*r*t)/100\n",
    "    return si\n",
    "\n",
    "\n",
    "res=simple_interest()\n",
    "print('simple interest is', res)"
   ]
  },
  {
   "cell_type": "code",
   "execution_count": 25,
   "id": "0deeefb1",
   "metadata": {},
   "outputs": [
    {
     "name": "stdout",
     "output_type": "stream",
     "text": [
      "enter the key_values pairs2\n",
      "enter keysk1\n",
      "enter values10\n",
      "enter keysk2\n",
      "enter values4.\n",
      "user dictionary is {'k1': '10', 'k2': '4.'}\n"
     ]
    }
   ],
   "source": [
    "def create_dictionary():\n",
    "    dict={}\n",
    "    kv_pairs=int(input('enter the key_values pairs'))\n",
    "    for i in range(kv_pairs):\n",
    "        k=input('enter keys')\n",
    "        v=input('enter values')\n",
    "        dict[k]=v\n",
    "    return dict\n",
    "\n",
    "def print_dictionary(dname):\n",
    "    print('user dictionary is', dname)\n",
    "                 \n",
    "        \n",
    "                 \n",
    "res=create_dictionary()\n",
    "print_dictionary(res)\n",
    "                 \n",
    "                 \n",
    "                 \n",
    "    "
   ]
  },
  {
   "cell_type": "code",
   "execution_count": 28,
   "id": "fc8320f7",
   "metadata": {},
   "outputs": [
    {
     "name": "stdout",
     "output_type": "stream",
     "text": [
      "enter the number4\n",
      "24\n"
     ]
    }
   ],
   "source": [
    "def factorial(n):\n",
    " \n",
    "    if n==0:\n",
    "        return 1\n",
    "    elif n<0:\n",
    "        return 'not allowed the factorial of negative no'\n",
    "    else:\n",
    "        return n*factorial(n-1)\n",
    "\n",
    "num=int(input('enter the number'))\n",
    "res=factorial(num)\n",
    "print(res)"
   ]
  },
  {
   "cell_type": "code",
   "execution_count": 6,
   "id": "df28fc68",
   "metadata": {},
   "outputs": [
    {
     "name": "stdout",
     "output_type": "stream",
     "text": [
      "enter the value5\n",
      "120\n"
     ]
    }
   ],
   "source": [
    "def factorial(n):\n",
    "    fact=1\n",
    "    for i in range(1,n+1):\n",
    "        fact=fact*i\n",
    "    return fact\n",
    "num=int(input('enter the value'))\n",
    "res=factorial(num)\n",
    "print(res)"
   ]
  },
  {
   "cell_type": "code",
   "execution_count": 20,
   "id": "81ef0589",
   "metadata": {},
   "outputs": [
    {
     "name": "stdout",
     "output_type": "stream",
     "text": [
      "enter the stringthis is a cat\n",
      "4\n",
      "2\n",
      "1\n",
      "3\n"
     ]
    }
   ],
   "source": [
    "def length_of_word(s):\n",
    "    words=s.split()\n",
    "    for word in words:\n",
    "        print(len(word))\n",
    "\n",
    "st=input('enter the string')\n",
    "length_of_word(st)\n",
    "        "
   ]
  },
  {
   "cell_type": "code",
   "execution_count": 21,
   "id": "fb5269d5",
   "metadata": {},
   "outputs": [
    {
     "data": {
      "text/plain": [
       "['t', 'h', 'i', 's', ' ', 'i', 's', ' ', 'a', ' ', 'c', 'a', 't']"
      ]
     },
     "execution_count": 21,
     "metadata": {},
     "output_type": "execute_result"
    }
   ],
   "source": [
    "list('this is a cat')"
   ]
  },
  {
   "cell_type": "code",
   "execution_count": 29,
   "id": "ef284681",
   "metadata": {},
   "outputs": [
    {
     "name": "stdout",
     "output_type": "stream",
     "text": [
      "*\n",
      "\n",
      "**\n",
      "\n",
      "***\n",
      "\n",
      "****\n",
      "\n",
      "*****\n",
      "\n"
     ]
    }
   ],
   "source": [
    "\n",
    "for i in range(1,6):\n",
    "    for j in range(1,i+1):\n",
    "        print('*',end='')\n",
    "    print('\\n')"
   ]
  },
  {
   "cell_type": "code",
   "execution_count": 31,
   "id": "d6dfd66f",
   "metadata": {},
   "outputs": [
    {
     "name": "stdout",
     "output_type": "stream",
     "text": [
      "*****\n",
      "\n",
      "****\n",
      "\n",
      "***\n",
      "\n",
      "**\n",
      "\n",
      "*\n",
      "\n"
     ]
    }
   ],
   "source": [
    "\n",
    "for i in range(1,6):\n",
    "    for j in range(6-i):\n",
    "        print('*',end='')\n",
    "    print('\\n')"
   ]
  },
  {
   "cell_type": "code",
   "execution_count": 2,
   "id": "115cecf6",
   "metadata": {},
   "outputs": [
    {
     "name": "stdout",
     "output_type": "stream",
     "text": [
      "6\n"
     ]
    }
   ],
   "source": [
    "x=5\n",
    "def print_value():\n",
    "    global x\n",
    "    x=x+1\n",
    "    \n",
    "print_value()\n",
    "print(x)"
   ]
  },
  {
   "cell_type": "code",
   "execution_count": 6,
   "id": "a2b0986f",
   "metadata": {},
   "outputs": [
    {
     "name": "stdout",
     "output_type": "stream",
     "text": [
      "enter the withdraw amount5555\n",
      "5555\n",
      "4445\n"
     ]
    }
   ],
   "source": [
    "pa=10000\n",
    "def wa():\n",
    "    global pa\n",
    "    wamt=int(input('enter the withdraw amount'))\n",
    "    pa=pa-wamt\n",
    "    print(wamt)\n",
    "def check_balance():\n",
    "    print(pa)\n",
    "wa()\n",
    "check_balance()"
   ]
  },
  {
   "cell_type": "code",
   "execution_count": 7,
   "id": "dd2c3d80",
   "metadata": {},
   "outputs": [
    {
     "name": "stdout",
     "output_type": "stream",
     "text": [
      "5 and 6\n"
     ]
    }
   ],
   "source": [
    "#positional argument\n",
    "def fn(x,y):\n",
    "    print(x ,'and',y)\n",
    "fn(5,6)"
   ]
  },
  {
   "cell_type": "code",
   "execution_count": 8,
   "id": "225639f6",
   "metadata": {},
   "outputs": [
    {
     "name": "stdout",
     "output_type": "stream",
     "text": [
      "6 --- 5\n"
     ]
    }
   ],
   "source": [
    "#keyword or named argument\n",
    "def fn(x,y):\n",
    "    print(x ,'---',y)\n",
    "fn(y=5,x=6)"
   ]
  },
  {
   "cell_type": "code",
   "execution_count": 11,
   "id": "af5aca4a",
   "metadata": {},
   "outputs": [
    {
     "name": "stdout",
     "output_type": "stream",
     "text": [
      "gauravsinghmehra\n"
     ]
    }
   ],
   "source": [
    "def fn(fn,mn,ln):\n",
    "    print(fn+mn+ln)\n",
    "\n",
    "fn('gaurav',ln='mehra',mn='singh')"
   ]
  },
  {
   "cell_type": "code",
   "execution_count": 14,
   "id": "b5fd86cd",
   "metadata": {},
   "outputs": [
    {
     "name": "stdout",
     "output_type": "stream",
     "text": [
      "5 and 0\n"
     ]
    }
   ],
   "source": [
    "#default argument\n",
    "def fn(x,y=0):\n",
    "    print(x ,'and',y)\n",
    "fn(5)"
   ]
  },
  {
   "cell_type": "code",
   "execution_count": 17,
   "id": "d221962c",
   "metadata": {},
   "outputs": [
    {
     "name": "stdout",
     "output_type": "stream",
     "text": [
      "(5,)\n",
      "('gaurav',)\n",
      "(1, 2, 3, 4, 5)\n",
      "('g', 'a', 'u', 'r', 'a', 'v')\n"
     ]
    }
   ],
   "source": [
    "def fn(*v):\n",
    "    print(v)\n",
    "fn(5)\n",
    "fn('gaurav')\n",
    "fn(1,2,3,4,5)\n",
    "fn('g','a','u','r','a','v')"
   ]
  },
  {
   "cell_type": "code",
   "execution_count": 18,
   "id": "eb034ec7",
   "metadata": {},
   "outputs": [
    {
     "name": "stdout",
     "output_type": "stream",
     "text": [
      "{'x': 5, 'y': 10, 'z': 25}\n"
     ]
    }
   ],
   "source": [
    "def fn(**v):\n",
    "    print(v)\n",
    "fn(x=5,y=10,z=25)\n"
   ]
  },
  {
   "cell_type": "code",
   "execution_count": 20,
   "id": "237df599",
   "metadata": {},
   "outputs": [
    {
     "name": "stdout",
     "output_type": "stream",
     "text": [
      "1\n",
      "2\n",
      "3\n",
      "4\n",
      "5\n",
      "6\n",
      "7\n",
      "8\n",
      "9\n",
      "10\n"
     ]
    }
   ],
   "source": [
    "#recurssion\n",
    "def count(n):\n",
    "    if n<=10:\n",
    "        print(n)\n",
    "        n=n+1\n",
    "        count (n)\n",
    "count(1)"
   ]
  },
  {
   "cell_type": "code",
   "execution_count": 2,
   "id": "52231df7",
   "metadata": {},
   "outputs": [
    {
     "name": "stdout",
     "output_type": "stream",
     "text": [
      "enter the element5\n",
      "5\n",
      "10\n",
      "15\n",
      "20\n",
      "25\n",
      "30\n",
      "35\n",
      "40\n",
      "45\n",
      "50\n"
     ]
    }
   ],
   "source": [
    "def table(n,i=1):\n",
    "    if i<=10:\n",
    "        print(n*i)\n",
    "        i=i+1\n",
    "        table (n,i)\n",
    "n=int(input('enter the element'))\n",
    "table(n)"
   ]
  },
  {
   "cell_type": "code",
   "execution_count": 13,
   "id": "badf4f77",
   "metadata": {},
   "outputs": [
    {
     "name": "stdout",
     "output_type": "stream",
     "text": [
      "enter the element5\n"
     ]
    },
    {
     "data": {
      "text/plain": [
       "120"
      ]
     },
     "execution_count": 13,
     "metadata": {},
     "output_type": "execute_result"
    }
   ],
   "source": [
    "def factorial(n):\n",
    "    if n==0:\n",
    "        return 1\n",
    "    elif n<0:\n",
    "        return 'not allowed the factorial of negative num'\n",
    "    else:\n",
    "        return n*factorial(n-1)\n",
    "n=int(input('enter the element'))\n",
    "factorial(n)"
   ]
  },
  {
   "cell_type": "code",
   "execution_count": 14,
   "id": "81213c6c",
   "metadata": {},
   "outputs": [
    {
     "name": "stdout",
     "output_type": "stream",
     "text": [
      "5+10=15\n"
     ]
    }
   ],
   "source": [
    "#lambda function\n",
    "add=lambda x,y:print(f'{x}+{y}={x+y}')\n",
    "add(5,10)"
   ]
  },
  {
   "cell_type": "code",
   "execution_count": 15,
   "id": "2aa187bc",
   "metadata": {},
   "outputs": [
    {
     "name": "stdout",
     "output_type": "stream",
     "text": [
      "enter the num5\n",
      "cube of 5=125\n"
     ]
    }
   ],
   "source": [
    "cube=lambda n:print(f'cube of {n}={n**3}')\n",
    "n=int(input('enter the num'))\n",
    "cube(n)"
   ]
  },
  {
   "cell_type": "code",
   "execution_count": 17,
   "id": "cd900301",
   "metadata": {},
   "outputs": [
    {
     "name": "stdout",
     "output_type": "stream",
     "text": [
      "enter the hight10\n",
      "enter the width10\n",
      "area of triangle =50.0\n"
     ]
    }
   ],
   "source": [
    "aot=lambda h,b:print(f'area of triangle ={0.5*h*b}')\n",
    "h=int(input('enter the hight'))\n",
    "b=int(input('enter the width'))\n",
    "aot(h,b)"
   ]
  },
  {
   "cell_type": "code",
   "execution_count": 21,
   "id": "edbd9d0b",
   "metadata": {},
   "outputs": [
    {
     "name": "stdout",
     "output_type": "stream",
     "text": [
      "enter the num5200\n"
     ]
    },
    {
     "data": {
      "text/plain": [
       "'num is multiple of 100 '"
      ]
     },
     "execution_count": 21,
     "metadata": {},
     "output_type": "execute_result"
    }
   ],
   "source": [
    "mult=lambda n:'num is multiple of 100 ' if n%100==0 else 'is not multiple'\n",
    "n=int(input('enter the num'))\n",
    "mult(n)"
   ]
  },
  {
   "cell_type": "code",
   "execution_count": 27,
   "id": "008d9515",
   "metadata": {},
   "outputs": [
    {
     "name": "stdout",
     "output_type": "stream",
     "text": [
      "enter the range5\n",
      "enter the element100\n",
      "enter the element15\n",
      "enter the element25\n",
      "enter the element120\n",
      "enter the element5\n",
      "[100, 15, 25, 120, 5]\n",
      "[100, 120]\n"
     ]
    }
   ],
   "source": [
    "l=[]\n",
    "n=int(input('enter the range'))\n",
    "for i in range(n):\n",
    "    e=int(input('enter the element'))\n",
    "    l.append(e)\n",
    "print(l)\n",
    "evencheck=[]\n",
    "for even in l:\n",
    "    if even%2==0:\n",
    "        evencheck.append(even)\n",
    "print(evencheck)"
   ]
  },
  {
   "cell_type": "code",
   "execution_count": 28,
   "id": "002fcbc2",
   "metadata": {},
   "outputs": [
    {
     "name": "stdout",
     "output_type": "stream",
     "text": [
      "[100, 120]\n"
     ]
    }
   ],
   "source": [
    "def evencheck(l):\n",
    "    m=[]\n",
    "    for n in l:\n",
    "        if n%2==0:\n",
    "            m.append(n)\n",
    "    print(m)\n",
    "evencheck([100, 15, 25, 120, 5])   \n"
   ]
  },
  {
   "cell_type": "code",
   "execution_count": null,
   "id": "dd029b0f",
   "metadata": {},
   "outputs": [],
   "source": [
    "##file handling"
   ]
  },
  {
   "cell_type": "code",
   "execution_count": 7,
   "id": "c96678b5",
   "metadata": {},
   "outputs": [
    {
     "name": "stdout",
     "output_type": "stream",
     "text": [
      "enter the file nameabc\n",
      "enter the data to write in the filegaurav singh mehra\n"
     ]
    }
   ],
   "source": [
    "filename=input('enter the file name')\n",
    "file=open(filename+'.txt','w')\n",
    "data=input('enter the data to write in the file')\n",
    "file.write(data)\n",
    "file.flush()\n",
    "file.close()"
   ]
  },
  {
   "cell_type": "code",
   "execution_count": 3,
   "id": "5cfd154b",
   "metadata": {},
   "outputs": [
    {
     "name": "stdout",
     "output_type": "stream",
     "text": [
      "C:\\Users\\asus\\Untitled Folder 4\n"
     ]
    }
   ],
   "source": [
    "import os\n",
    "print(os.getcwd())"
   ]
  },
  {
   "cell_type": "code",
   "execution_count": 6,
   "id": "fdaba6b2",
   "metadata": {
    "scrolled": true
   },
   "outputs": [
    {
     "name": "stdout",
     "output_type": "stream",
     "text": [
      "enter the file namenew_data\n",
      "enter the extension of filetxt\n",
      "enter the data to write in the filegaurav singh mehra\n"
     ]
    }
   ],
   "source": [
    "path='G:\\\\Titan spy\\\\my_folder\\\\'\n",
    "filename=input('enter the file name')\n",
    "ex=input('enter the extension of file')\n",
    "file=open(path+filename+'.'+ex,'w')\n",
    "data=input('enter the data to write in the file')\n",
    "file.write(data)\n",
    "file.flush()\n",
    "file.close()"
   ]
  },
  {
   "cell_type": "code",
   "execution_count": 5,
   "id": "a7fd9d17",
   "metadata": {},
   "outputs": [
    {
     "name": "stdout",
     "output_type": "stream",
     "text": [
      "enter the namenew_data\n",
      "enter the account no1234\n",
      "enter the amount1000\n",
      "enter the extension of filetxt\n"
     ]
    }
   ],
   "source": [
    "path='G:\\\\Titan spy\\\\my_folder\\\\'\n",
    "name=input('enter the name')\n",
    "accountno=input('enter the account no')\n",
    "amount=input('enter the amount')\n",
    "ex=input('enter the extension of file')\n",
    "file=open(path+accountno+'.'+ex,'w')\n",
    "data={'name':name,'accountno':accountno,'amount':amount}\n",
    "file.write(str(data))\n",
    "file.flush()\n",
    "file.close()"
   ]
  },
  {
   "cell_type": "markdown",
   "id": "2e1e3786",
   "metadata": {},
   "source": [
    "# read mode"
   ]
  },
  {
   "cell_type": "code",
   "execution_count": 18,
   "id": "a7d0ce7e",
   "metadata": {},
   "outputs": [
    {
     "name": "stdout",
     "output_type": "stream",
     "text": [
      "enter the file nameabc\n",
      "data from file\n",
      "gaurav singh mehra\n"
     ]
    }
   ],
   "source": [
    "filename=input('enter the file name')\n",
    "file=open(filename+'.txt','r')\n",
    "data=file.read()\n",
    "print('data from file')\n",
    "print(data)\n",
    "file.close()"
   ]
  },
  {
   "cell_type": "code",
   "execution_count": 19,
   "id": "5200b46e",
   "metadata": {},
   "outputs": [
    {
     "name": "stdout",
     "output_type": "stream",
     "text": [
      "enter the file name123456789\n",
      "data from file\n",
      "{'name': 'gaurav', 'accountno': '123456789', 'amount': '1000'}\n"
     ]
    }
   ],
   "source": [
    "path='G:\\\\Titan spy\\\\my_folder\\\\'\n",
    "filename=input('enter the file name')\n",
    "file=open(path+filename+'.txt','r')\n",
    "data=file.read()\n",
    "print('data from file')\n",
    "print(data)\n",
    "file.close()"
   ]
  },
  {
   "cell_type": "code",
   "execution_count": 1,
   "id": "6c1885a0",
   "metadata": {},
   "outputs": [
    {
     "name": "stdout",
     "output_type": "stream",
     "text": [
      "enter the file name123456789\n",
      "data from file\n",
      "{'name': 'gaurav', 'accountno': '123456789', 'amount': '1000'}\n"
     ]
    }
   ],
   "source": [
    "path='G:\\\\Titan spy\\\\my_folder\\\\'\n",
    "filename=input('enter the file name')\n",
    "file=open(path+filename+'.txt','r')\n",
    "data=file.readline()\n",
    "print('data from file')\n",
    "print(data)\n",
    "file.close()"
   ]
  },
  {
   "cell_type": "code",
   "execution_count": 7,
   "id": "5947f2ae",
   "metadata": {},
   "outputs": [
    {
     "name": "stdout",
     "output_type": "stream",
     "text": [
      "enter the file namenew_data\n",
      "data from file\n",
      "['gaurav singh mehra']\n",
      "gaurav singh mehra\n"
     ]
    }
   ],
   "source": [
    "path='G:\\\\Titan spy\\\\my_folder\\\\'\n",
    "filename=input('enter the file name')\n",
    "file=open(path+filename+'.txt','r')\n",
    "data=file.readlines()\n",
    "print('data from file')\n",
    "print(data)\n",
    "for datau in data:\n",
    "    print(datau)\n",
    "file.close()"
   ]
  },
  {
   "cell_type": "code",
   "execution_count": 10,
   "id": "0b289a7e",
   "metadata": {},
   "outputs": [
    {
     "name": "stdout",
     "output_type": "stream",
     "text": [
      "enter the file namemynewfile\n",
      "enter the data to write in the file new data is still here\n"
     ]
    }
   ],
   "source": [
    "#append\n",
    "filename=input('enter the file name')\n",
    "file=open(filename+'.txt','a')\n",
    "data=input('enter the data to write in the file')\n",
    "file.write(data)\n",
    "file.flush()\n",
    "file.close()"
   ]
  },
  {
   "cell_type": "code",
   "execution_count": 16,
   "id": "2061abdc",
   "metadata": {},
   "outputs": [
    {
     "name": "stdout",
     "output_type": "stream",
     "text": [
      "enter the ddirectory namemydata\n",
      "directory mydata is created\n"
     ]
    }
   ],
   "source": [
    "import os\n",
    "path=path='G:\\\\Titan spy\\\\my_folder\\\\'\n",
    "fo=input('enter the ddirectory name')\n",
    "os.mkdir(fo)\n",
    "print(f'directory {fo} is created')"
   ]
  },
  {
   "cell_type": "code",
   "execution_count": 18,
   "id": "722302a2",
   "metadata": {},
   "outputs": [
    {
     "name": "stdout",
     "output_type": "stream",
     "text": [
      "['1234.txt', '123456789.txt', 'new_data.txt']\n"
     ]
    }
   ],
   "source": [
    "path='G:\\\\Titan spy\\\\my_folder\\\\'\n",
    "file=os.listdir(path)\n",
    "print(file)"
   ]
  },
  {
   "cell_type": "code",
   "execution_count": 19,
   "id": "582ca567",
   "metadata": {},
   "outputs": [
    {
     "name": "stdout",
     "output_type": "stream",
     "text": [
      "enter the file namefyfolder\n"
     ]
    }
   ],
   "source": [
    "import os\n",
    "fn=input('enter the file name')\n",
    "os.mkdir(fn)"
   ]
  },
  {
   "cell_type": "code",
   "execution_count": 40,
   "id": "0c8ddfec",
   "metadata": {},
   "outputs": [
    {
     "name": "stdout",
     "output_type": "stream",
     "text": [
      "enter the directory namemydir\n",
      "enter the file namemyfile\n"
     ]
    }
   ],
   "source": [
    "import os\n",
    "folder_name=input('enter the directory name')\n",
    "file_name=input('enter the file name')\n",
    "os.mkdir(folder_name)"
   ]
  },
  {
   "cell_type": "code",
   "execution_count": 50,
   "id": "62b01f45",
   "metadata": {},
   "outputs": [
    {
     "name": "stdout",
     "output_type": "stream",
     "text": [
      "C:\\Users\\asus\\Untitled Folder 4\\mydir\n"
     ]
    }
   ],
   "source": [
    "parent=os.getcwd()\n",
    "child=folder_name\n",
    "path=os.path.join(parent,child)\n",
    "print(path)"
   ]
  },
  {
   "cell_type": "code",
   "execution_count": 51,
   "id": "0ee03a35",
   "metadata": {},
   "outputs": [
    {
     "name": "stdout",
     "output_type": "stream",
     "text": [
      "enter the data you want to writei am a good boy\n"
     ]
    }
   ],
   "source": [
    "file=open(path+'\\\\'+file_name+'.txt','w')\n",
    "data=input('enter the data you want to write')\n",
    "file.write(data)\n",
    "file.flush()\n",
    "file.close()"
   ]
  },
  {
   "cell_type": "code",
   "execution_count": 28,
   "id": "d72002b8",
   "metadata": {},
   "outputs": [
    {
     "name": "stdout",
     "output_type": "stream",
     "text": [
      "C:\\Users\\asus\\Untitled Folder 4\n"
     ]
    }
   ],
   "source": [
    "path=os.getcwd()\n",
    "print(path)"
   ]
  },
  {
   "cell_type": "code",
   "execution_count": 27,
   "id": "b3b3a7c5",
   "metadata": {},
   "outputs": [
    {
     "name": "stdout",
     "output_type": "stream",
     "text": [
      "enter the file namemynewfile\n",
      "['new data new data is still here']\n",
      "7\n"
     ]
    }
   ],
   "source": [
    "filename=input('enter the file name')\n",
    "file=open(filename+'.txt','r')\n",
    "data=file.readlines()\n",
    "print(data)\n",
    "for word in data:\n",
    "    sp=word.split()\n",
    "    words=len(sp)\n",
    "    print(words)\n",
    "file.close()"
   ]
  }
 ],
 "metadata": {
  "kernelspec": {
   "display_name": "Python 3 (ipykernel)",
   "language": "python",
   "name": "python3"
  },
  "language_info": {
   "codemirror_mode": {
    "name": "ipython",
    "version": 3
   },
   "file_extension": ".py",
   "mimetype": "text/x-python",
   "name": "python",
   "nbconvert_exporter": "python",
   "pygments_lexer": "ipython3",
   "version": "3.10.9"
  }
 },
 "nbformat": 4,
 "nbformat_minor": 5
}
